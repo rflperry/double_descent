{
 "cells": [
  {
   "cell_type": "code",
   "execution_count": 1,
   "id": "1051664a",
   "metadata": {},
   "outputs": [],
   "source": [
    "import numpy as np\n",
    "import matplotlib.pyplot as plt\n",
    "import pandas as pd\n",
    "import seaborn as sns\n",
    "from collections import defaultdict\n",
    "from sklearn.linear_model import LinearRegression, RidgeCV, LassoCV\n",
    "from sklearn.metrics import mean_squared_error as mse"
   ]
  },
  {
   "cell_type": "markdown",
   "id": "5b8ab964",
   "metadata": {},
   "source": [
    "## Simulation"
   ]
  },
  {
   "cell_type": "code",
   "execution_count": 56,
   "id": "81ad5da8",
   "metadata": {},
   "outputs": [
    {
     "name": "stdout",
     "output_type": "stream",
     "text": [
      "0.03925226263083868\n",
      "0.49018400181468896\n",
      "0.2863051207908831\n",
      "10.106592746140663\n"
     ]
    }
   ],
   "source": [
    "d = 12\n",
    "n = 8\n",
    "beta1s = 3\n",
    "n_runs = 50\n",
    "beta = np.asarray([1]*beta1s + [0]*(d-beta1s))\n",
    "\n",
    "thresh = n\n",
    "\n",
    "i = 10\n",
    "np.random.seed(i)\n",
    "X_train = np.random.normal(0, 1, (n, d))\n",
    "y_train = X_train @ beta.T + np.random.normal(0, 0.1, (n,))\n",
    "X_test = np.random.normal(0, 1, (10000, d))\n",
    "y_test = X_test @ beta.T + np.random.normal(0, 0.1, (10000,))\n",
    "for p in range(6, 10):\n",
    "    if p > n:\n",
    "        z_train = y_train - X_train[:, p] * 0\n",
    "        z_test = y_test - X_test[:, p] * 0\n",
    "        lr = LinearRegression(fit_intercept=False).fit(X_train[:, :n], z_train)\n",
    "        train_error = mse(z_train, lr.predict(X_train[:, :n]))\n",
    "        test_error = mse(z_test, lr.predict(X_test[:, :n]))\n",
    "        \n",
    "        lr = LinearRegression(fit_intercept=False).fit(X_train[:, p-n:p], y_train)\n",
    "        train_error = mse(y_train, lr.predict(X_train[:, p-n:p]))\n",
    "        test_error = mse(y_test, lr.predict(X_test[:, p-n:p]))\n",
    "    else:\n",
    "        lr = LinearRegression(fit_intercept=False).fit(X_train[:, :p], y_train)\n",
    "        train_error = mse(y_train, lr.predict(X_train[:, :p]))\n",
    "        test_error = mse(y_test, lr.predict(X_test[:, :p]))\n",
    "    print(test_error)"
   ]
  },
  {
   "cell_type": "code",
   "execution_count": 101,
   "id": "a0a4d458",
   "metadata": {},
   "outputs": [],
   "source": [
    "d = 9\n",
    "n = 8\n",
    "beta1s = 3\n",
    "n_runs = 50\n",
    "beta = np.asarray([1]*beta1s + [0]*(d-beta1s))\n",
    "\n",
    "thresh = n\n",
    "\n",
    "results_mat = []\n",
    "\n",
    "for i in range(n_runs):\n",
    "    np.random.seed(i)\n",
    "    X_train = np.random.normal(0, 1, (n, d))\n",
    "    y_train = X_train @ beta.T + np.random.normal(0, 0.1, (n,))\n",
    "    X_test = np.random.normal(0, 1, (10000, d))\n",
    "    y_test = X_test @ beta.T + np.random.normal(0, 0.1, (10000,))\n",
    "\n",
    "    # OLS until interpolation\n",
    "    for p in range(1, thresh+1):\n",
    "        lr = LinearRegression(fit_intercept=False).fit(X_train[:, :p], y_train)\n",
    "        train_error = mse(y_train, lr.predict(X_train[:, :p]))\n",
    "        test_error = mse(y_test, lr.predict(X_test[:, :p]))\n",
    "        alpha = 0\n",
    "        bic = n * np.log(mse(y_train, lr.predict(X_train[:, :p]))) + (1 + p) * np.log(n)\n",
    "        results_mat.append([\n",
    "            i, 'OLS', p, train_error, test_error, alpha, bic\n",
    "        ])\n",
    "        results_mat.append([\n",
    "            i, 'OLS + Ridge', p, train_error, test_error, alpha, bic\n",
    "        ])\n",
    "\n",
    "        results_mat.append([\n",
    "            i, 'OLS (min norm)', p, train_error, test_error, alpha, bic\n",
    "        ])\n",
    "\n",
    "    # Add ridge regression to OLS at interpolation\n",
    "    for p in range(thresh, d):\n",
    "        lr = RidgeCV(fit_intercept=False, scoring='neg_mean_squared_error', alphas=np.logspace(-2, 2, 20)).fit(X_train[:, :p], y_train)\n",
    "        train_error = mse(y_train, lr.predict(X_train[:, :p]))\n",
    "        test_error = mse(y_test, lr.predict(X_test[:, :p]))\n",
    "        alpha = lr.alpha_\n",
    "        bic = n * np.log(mse(y_train, lr.predict(X_train[:, :p]))) + (2 + p) * np.log(n)\n",
    "        results_mat.append([\n",
    "            i, 'OLS + Ridge', p, train_error, test_error, alpha, bic\n",
    "        ])\n",
    "        \n",
    "    # OLS min norm past interpolation\n",
    "    for p in range(thresh, d+1):\n",
    "        lr = LinearRegression(fit_intercept=False).fit(X_train[:, :p], y_train)\n",
    "        train_error = mse(y_train, lr.predict(X_train[:, :p]))\n",
    "        test_error = mse(y_test, lr.predict(X_test[:, :p]))\n",
    "        alpha = 0\n",
    "        bic = n * np.log(mse(y_train, lr.predict(X_train[:, :p]))) + (1 + p) * np.log(n)\n",
    "        results_mat.append([\n",
    "            i, 'OLS (min norm)', p, train_error, test_error, alpha, bic\n",
    "        ])\n",
    "        \n",
    "    # OLS past interpolation\n",
    "    for p in range(thresh, d+1):\n",
    "        lr = LinearRegression(fit_intercept=False).fit(X_train[:, p-n:p], y_train)\n",
    "        train_error = mse(y_train, lr.predict(X_train[:, p-n:p]))\n",
    "        test_error = mse(y_test, lr.predict(X_test[:, p-n:p]))\n",
    "        alpha = 0\n",
    "        bic = n * np.log(mse(y_train, lr.predict(X_train[:, p-n:p]))) + (1 + p) * np.log(n)\n",
    "        results_mat.append([\n",
    "            i, 'OLS', p, train_error, test_error, alpha, bic\n",
    "        ])\n",
    "\n",
    "    # Ridge regression the whole way\n",
    "    for p in range(1, d):\n",
    "        lr = RidgeCV(fit_intercept=False, scoring='neg_mean_squared_error', alphas=np.logspace(-2, 2, 20)).fit(X_train[:, :p], y_train)\n",
    "        # lr = LassoCV(fit_intercept=False, alphas=np.logspace(-4, 4, 20)).fit(X_train[:, :p], y_train)\n",
    "        train_error = mse(y_train, lr.predict(X_train[:, :p]))\n",
    "        test_error = mse(y_test, lr.predict(X_test[:, :p]))\n",
    "        alpha = lr.alpha_\n",
    "        bic = n * np.log(mse(y_train, lr.predict(X_train[:, :p]))) + (2 + p) * np.log(n)\n",
    "        results_mat.append([\n",
    "            i, 'Ridge', p, train_error, test_error, alpha, bic\n",
    "        ])\n",
    "        \n",
    "df = pd.DataFrame(\n",
    "    results_mat,\n",
    "    columns=['rep', 'Method', 'Number of features', 'Train MSE', 'Generalization MSE', 'L2 penalty', 'BIC']\n",
    ")\n",
    "df['Number of model parameters'] = df['Number of features'] + (df['L2 penalty'] > 0)"
   ]
  },
  {
   "cell_type": "markdown",
   "id": "29c8528e",
   "metadata": {},
   "source": [
    "## Scatterplot"
   ]
  },
  {
   "cell_type": "code",
   "execution_count": 109,
   "id": "ae976c86",
   "metadata": {},
   "outputs": [
    {
     "data": {
      "image/png": "[encoded data removed]",
      "text/plain": [
       "<Figure size 432x216 with 1 Axes>"
      ]
     },
     "metadata": {},
     "output_type": "display_data"
    }
   ],
   "source": [
    "sns.set_style('darkgrid')\n",
    "sns.set_context('notebook')\n",
    "\n",
    "f, ax = plt.subplots(1, 1, figsize=(6, 3))\n",
    "sns.lineplot(\n",
    "    # data = df,\n",
    "    data=df[\n",
    "        df['Method'].isin(['OLS', 'OLS + Ridge', 'Ridge'])\n",
    "    ],\n",
    "    x='Number of model parameters', y='Generalization MSE',\n",
    "    ax=ax, hue='Method', hue_order=['OLS', 'OLS + Ridge', 'Ridge'], palette=['#4daf4a', '#377eb8', '#ff7f00'])\n",
    "\n",
    "ax.scatter(8, df[(df['Method'] == 'OLS (min norm)') & (df['Number of model parameters'] == 8)]['Generalization MSE'].mean(), c='black')\n",
    "ax.text(0.78, 0.6, 'p=n', horizontalalignment='center', # c=ax.get_lines()[0].get_c(),\n",
    "         verticalalignment='center', transform=ax.transAxes)\n",
    "\n",
    "ax.scatter(9, df[(df['Method'] == 'OLS + Ridge') & (df['Number of model parameters'] == 9)]['Generalization MSE'].mean(), c='black')\n",
    "ax.text(0.95, 0.2, 'p=n', horizontalalignment='center', #c=ax.get_lines()[0].get_c(),\n",
    "         verticalalignment='center', transform=ax.transAxes)#, fontsize=12)\n",
    "\n",
    "ax.scatter(9, df[(df['Method'] == 'OLS') & (df['Number of model parameters'] == 9)]['Generalization MSE'].mean(), c='black')\n",
    "ax.text(0.87, 0.9, 'p=n+1', horizontalalignment='center', #c=ax.get_lines()[0].get_c(),\n",
    "         verticalalignment='center', transform=ax.transAxes)#, fontsize=12)\n",
    "\n",
    "ax.set_xticks([1, 2, 3, 4, n, n+1])\n",
    "ax.set_xticklabels([1, 2, 3, 4, '8', n+1])\n",
    "plt.yscale('log')\n",
    "ax.set_xlabel(r'Number of model parameters')\n",
    "ax.legend(loc=\"upper left\")\n",
    "\n",
    "plt.tight_layout()\n",
    "plt.savefig('./figures/regression_double_descent.pdf')\n",
    "plt.show()"
   ]
  },
  {
   "cell_type": "code",
   "execution_count": 13,
   "id": "2bf71e45",
   "metadata": {},
   "outputs": [
    {
     "ename": "NameError",
     "evalue": "name 'df_dd' is not defined",
     "output_type": "error",
     "traceback": [
      "\u001b[0;31m---------------------------------------------------------------------------\u001b[0m",
      "\u001b[0;31mNameError\u001b[0m                                 Traceback (most recent call last)",
      "\u001b[0;32m<ipython-input-13-6b7f7523cd22>\u001b[0m in \u001b[0;36m<module>\u001b[0;34m\u001b[0m\n\u001b[1;32m      2\u001b[0m \u001b[0mf\u001b[0m\u001b[0;34m,\u001b[0m \u001b[0max\u001b[0m \u001b[0;34m=\u001b[0m \u001b[0mplt\u001b[0m\u001b[0;34m.\u001b[0m\u001b[0msubplots\u001b[0m\u001b[0;34m(\u001b[0m\u001b[0;36m1\u001b[0m\u001b[0;34m,\u001b[0m \u001b[0;36m1\u001b[0m\u001b[0;34m,\u001b[0m \u001b[0mfigsize\u001b[0m\u001b[0;34m=\u001b[0m\u001b[0;34m(\u001b[0m\u001b[0;36m6\u001b[0m\u001b[0;34m,\u001b[0m \u001b[0;36m3\u001b[0m\u001b[0;34m)\u001b[0m\u001b[0;34m)\u001b[0m\u001b[0;34m\u001b[0m\u001b[0;34m\u001b[0m\u001b[0m\n\u001b[1;32m      3\u001b[0m \u001b[0;34m\u001b[0m\u001b[0m\n\u001b[0;32m----> 4\u001b[0;31m \u001b[0m_\u001b[0m\u001b[0;34m,\u001b[0m \u001b[0mdd_errors\u001b[0m\u001b[0;34m,\u001b[0m \u001b[0m_\u001b[0m \u001b[0;34m=\u001b[0m \u001b[0mdf_dd\u001b[0m\u001b[0;34m.\u001b[0m\u001b[0mgroupby\u001b[0m\u001b[0;34m(\u001b[0m\u001b[0;34m'Number of Model Parameters'\u001b[0m\u001b[0;34m)\u001b[0m\u001b[0;34m.\u001b[0m\u001b[0mmean\u001b[0m\u001b[0;34m(\u001b[0m\u001b[0;34m)\u001b[0m\u001b[0;34m.\u001b[0m\u001b[0mreset_index\u001b[0m\u001b[0;34m(\u001b[0m\u001b[0;34m)\u001b[0m\u001b[0;34m.\u001b[0m\u001b[0mto_numpy\u001b[0m\u001b[0;34m(\u001b[0m\u001b[0;34m)\u001b[0m\u001b[0;34m.\u001b[0m\u001b[0mT\u001b[0m\u001b[0;34m\u001b[0m\u001b[0;34m\u001b[0m\u001b[0m\n\u001b[0m\u001b[1;32m      5\u001b[0m \u001b[0m_\u001b[0m\u001b[0;34m,\u001b[0m \u001b[0msd_errors\u001b[0m\u001b[0;34m,\u001b[0m \u001b[0m_\u001b[0m \u001b[0;34m=\u001b[0m \u001b[0mdf_sd\u001b[0m\u001b[0;34m.\u001b[0m\u001b[0mgroupby\u001b[0m\u001b[0;34m(\u001b[0m\u001b[0;34m'Number of Model Parameters'\u001b[0m\u001b[0;34m)\u001b[0m\u001b[0;34m.\u001b[0m\u001b[0mmean\u001b[0m\u001b[0;34m(\u001b[0m\u001b[0;34m)\u001b[0m\u001b[0;34m.\u001b[0m\u001b[0mreset_index\u001b[0m\u001b[0;34m(\u001b[0m\u001b[0;34m)\u001b[0m\u001b[0;34m.\u001b[0m\u001b[0mto_numpy\u001b[0m\u001b[0;34m(\u001b[0m\u001b[0;34m)\u001b[0m\u001b[0;34m.\u001b[0m\u001b[0mT\u001b[0m\u001b[0;34m\u001b[0m\u001b[0;34m\u001b[0m\u001b[0m\n\u001b[1;32m      6\u001b[0m \u001b[0mmax_error\u001b[0m \u001b[0;34m=\u001b[0m \u001b[0mnp\u001b[0m\u001b[0;34m.\u001b[0m\u001b[0mmax\u001b[0m\u001b[0;34m(\u001b[0m\u001b[0mnp\u001b[0m\u001b[0;34m.\u001b[0m\u001b[0mconcatenate\u001b[0m\u001b[0;34m(\u001b[0m\u001b[0;34m(\u001b[0m\u001b[0mdd_errors\u001b[0m\u001b[0;34m,\u001b[0m \u001b[0msd_errors\u001b[0m\u001b[0;34m)\u001b[0m\u001b[0;34m)\u001b[0m\u001b[0;34m)\u001b[0m\u001b[0;34m\u001b[0m\u001b[0;34m\u001b[0m\u001b[0m\n",
      "\u001b[0;31mNameError\u001b[0m: name 'df_dd' is not defined"
     ]
    },
    {
     "data": {
      "image/png": "[encoded data removed]",
      "text/plain": [
       "<Figure size 432x216 with 1 Axes>"
      ]
     },
     "metadata": {},
     "output_type": "display_data"
    }
   ],
   "source": [
    "sns.set_style('white')\n",
    "f, ax = plt.subplots(1, 1, figsize=(6, 3))\n",
    "\n",
    "dd_errors = df[\n",
    "    df['Method'] == 'OLS + Ridge'\n",
    "]['Generalization MSE'].groupby(\n",
    "    ['Number of model parameters']\n",
    ").mean().reset_index().to_numpy()\n",
    "sd_errors = df[\n",
    "    df['Method'] == 'Ridge'\n",
    "]['Generalization MSE'].groupby(\n",
    "    ['Number of model parameters']\n",
    ").mean().reset_index().to_numpy()\n",
    "max_error = np.max(np.concatenate((dd_errors, sd_errors)))\n",
    "\n",
    "n_params, errors, regs = df_dd.groupby('Number of Model Parameters').mean().reset_index().to_numpy().T\n",
    "n_params[-1] -= 1\n",
    "\n",
    "ax.plot(regs, n_params, ls='-', c='blue', label='OLS', alpha=0.5)\n",
    "sc = ax.scatter(\n",
    "    regs, n_params, c=errors, vmax=max_error, vmin=min_error,#cm.Reds(np.log(errors) / np.log(max_error)),\n",
    "    s=100, edgecolor='black', cmap='Reds', norm=matplotlib.colors.LogNorm(),)\n",
    "\n",
    "n_params, errors, regs = df_sd.groupby('Number of Model Parameters').mean().reset_index().to_numpy().T\n",
    "n_params -= 1\n",
    "\n",
    "ax.plot(regs, n_params, ls='-', c='orange', label='Ridge', alpha=0.5)\n",
    "sc = ax.scatter(\n",
    "    regs, n_params, c=errors, vmax=max_error, vmin=min_error,#cm.Reds(np.log(errors) / np.log(max_error)),\n",
    "    s=100, edgecolor='black', cmap='Reds', norm=matplotlib.colors.LogNorm(),)\n",
    "\n",
    "cbar = plt.colorbar(sc)\n",
    "cbar.ax.set_ylabel('Generalization error ', rotation=270, labelpad=15)\n",
    "\n",
    "plt.xscale('symlog', linthreshx=1e-2)\n",
    "plt.xlabel('Regularization')\n",
    "plt.ylabel('Capacity')\n",
    "plt.legend()\n",
    "plt.tight_layout()\n",
    "# plt.savefig('./figures/ols_vs_ridge_traversal_scatter.pdf')\n",
    "plt.show()"
   ]
  },
  {
   "cell_type": "code",
   "execution_count": null,
   "id": "ad932adc",
   "metadata": {},
   "outputs": [],
   "source": []
  }
 ],
 "metadata": {
  "kernelspec": {
   "display_name": "Python (proglearn)",
   "language": "python",
   "name": "proglearn"
  },
  "language_info": {
   "codemirror_mode": {
    "name": "ipython",
    "version": 3
   },
   "file_extension": ".py",
   "mimetype": "text/x-python",
   "name": "python",
   "nbconvert_exporter": "python",
   "pygments_lexer": "ipython3",
   "version": "3.8.10"
  }
 },
 "nbformat": 4,
 "nbformat_minor": 5
}
