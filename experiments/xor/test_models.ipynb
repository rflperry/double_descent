{
 "cells": [
  {
   "cell_type": "code",
   "execution_count": 61,
   "id": "77b2006d",
   "metadata": {},
   "outputs": [],
   "source": [
    "import numpy as np\n",
    "from partition_decode.models import ReluNetClassifier\n",
    "import torch"
   ]
  },
  {
   "cell_type": "code",
   "execution_count": 62,
   "id": "896193de",
   "metadata": {},
   "outputs": [],
   "source": [
    "net = ReluNetClassifier()"
   ]
  },
  {
   "cell_type": "code",
   "execution_count": 63,
   "id": "b797190f",
   "metadata": {},
   "outputs": [],
   "source": [
    "X = np.random.normal(0, 1, (100, 2))\n",
    "y = np.random.choice(2, (100))"
   ]
  },
  {
   "cell_type": "code",
   "execution_count": 64,
   "id": "61cdffd9",
   "metadata": {},
   "outputs": [
    {
     "name": "stdout",
     "output_type": "stream",
     "text": [
      "Results for epoch 1, bce_loss=0.69, 01_error=0.44\n"
     ]
    }
   ],
   "source": [
    "net = net.fit(X, y)"
   ]
  },
  {
   "cell_type": "code",
   "execution_count": 65,
   "id": "8b27f648",
   "metadata": {},
   "outputs": [],
   "source": [
    "def get_polytopes(model, train_x, penultimate=False):\n",
    "    \"\"\"\n",
    "    Returns the polytopes.\n",
    "    Points that has same activations values after fed to the model\n",
    "     belong to the same polytope.\n",
    "    \"\"\"\n",
    "    polytope_memberships = []\n",
    "    last_activations = train_x\n",
    "    penultimate_act = None\n",
    "    layers = [module for module in model.modules() if type(module) == torch.nn.Linear]\n",
    "\n",
    "    for layer_id, layer in enumerate(layers):\n",
    "        weights, bias = (\n",
    "            layer.weight.data.detach().cpu().numpy(),\n",
    "            layer.bias.data.detach().cpu().numpy(),\n",
    "        )\n",
    "        preactivation = np.matmul(last_activations, weights.T) + bias\n",
    "        if layer_id == len(layers) - 1:\n",
    "            preactivation = 1 / (1 + np.exp(-1 / (1 + np.exp(-preactivation))))\n",
    "            binary_preactivation = (preactivation > 0.5).astype(\"int\")\n",
    "        else:\n",
    "            binary_preactivation = (preactivation > 0).astype(\"int\")\n",
    "        polytope_memberships.append(binary_preactivation)\n",
    "        last_activations = preactivation * binary_preactivation\n",
    "\n",
    "        if penultimate and layer_id == len(layers) - 1:\n",
    "            penultimate_act = last_activations\n",
    "\n",
    "    polytope_memberships = np.tensordot(\n",
    "        np.concatenate(polytope_memberships, axis=1),\n",
    "        2\n",
    "        ** np.arange(0, np.shape(np.concatenate(polytope_memberships, axis=1))[1]),\n",
    "        axes=1)\n",
    "\n",
    "    if penultimate:\n",
    "        return polytope_memberships, penultimate_act\n",
    "    return np.asarray(polytope_memberships), last_activations\n",
    "\n",
    "def get_internal_representation(model, X, penultimate=True):\n",
    "#     if self.history_ is None:\n",
    "#         raise RuntimeError(\"Classifier has not been fit\")\n",
    "    from torch.autograd import Variable\n",
    "    split_size = 50 #math.ceil(len(X) / self.batch_size)\n",
    "    \n",
    "    irm = []\n",
    "    for batch in np.array_split(X, split_size):\n",
    "        batch_irm = []\n",
    "        x_pred = Variable(torch.from_numpy(batch).float())\n",
    "        for module in model.modules():\n",
    "            x_pred = module(x_pred.detach())\n",
    "            if type(module) == torch.nn.modules.activation.ReLU:\n",
    "                batch_irm.append((x_pred.detach().numpy() > 0).astype(int))\n",
    "        if penultimate:\n",
    "            irm.append(batch_irm[-1])\n",
    "        else:\n",
    "            irm.append(np.hstack(batch_irm))\n",
    "     \n",
    "    return np.vstack(irm)"
   ]
  },
  {
   "cell_type": "code",
   "execution_count": 66,
   "id": "a976ed9c",
   "metadata": {},
   "outputs": [],
   "source": [
    "irm = get_internal_representation(net.model_, X, penultimate=False)"
   ]
  },
  {
   "cell_type": "code",
   "execution_count": 67,
   "id": "53070646",
   "metadata": {},
   "outputs": [
    {
     "data": {
      "text/plain": [
       "(100, 200)"
      ]
     },
     "execution_count": 67,
     "metadata": {},
     "output_type": "execute_result"
    }
   ],
   "source": [
    "irm.shape"
   ]
  },
  {
   "cell_type": "code",
   "execution_count": 25,
   "id": "84ca36c1",
   "metadata": {},
   "outputs": [
    {
     "data": {
      "text/plain": [
       "(100,)"
      ]
     },
     "execution_count": 25,
     "metadata": {},
     "output_type": "execute_result"
    }
   ],
   "source": [
    "polytope_memberships.shape"
   ]
  },
  {
   "cell_type": "code",
   "execution_count": 26,
   "id": "0ea95d75",
   "metadata": {},
   "outputs": [
    {
     "data": {
      "text/plain": [
       "(100, 2)"
      ]
     },
     "execution_count": 26,
     "metadata": {},
     "output_type": "execute_result"
    }
   ],
   "source": [
    "last_activations.shape"
   ]
  },
  {
   "cell_type": "code",
   "execution_count": 30,
   "id": "55350c15",
   "metadata": {},
   "outputs": [],
   "source": [
    "mods = list(net.model_.modules())"
   ]
  },
  {
   "cell_type": "code",
   "execution_count": 39,
   "id": "aa04dde5",
   "metadata": {},
   "outputs": [
    {
     "data": {
      "text/plain": [
       "torch.nn.modules.activation.ReLU"
      ]
     },
     "execution_count": 39,
     "metadata": {},
     "output_type": "execute_result"
    }
   ],
   "source": [
    "type(mods[2])"
   ]
  },
  {
   "cell_type": "code",
   "execution_count": 70,
   "id": "7e221fe8",
   "metadata": {},
   "outputs": [
    {
     "data": {
      "text/plain": [
       "<generator object Module.parameters at 0x7f2c645f7510>"
      ]
     },
     "execution_count": 70,
     "metadata": {},
     "output_type": "execute_result"
    }
   ],
   "source": [
    "net.model_.parameters()"
   ]
  },
  {
   "cell_type": "code",
   "execution_count": null,
   "id": "f7e4ee32",
   "metadata": {},
   "outputs": [],
   "source": []
  }
 ],
 "metadata": {
  "kernelspec": {
   "display_name": "Python (proglearn)",
   "language": "python",
   "name": "proglearn"
  },
  "language_info": {
   "codemirror_mode": {
    "name": "ipython",
    "version": 3
   },
   "file_extension": ".py",
   "mimetype": "text/x-python",
   "name": "python",
   "nbconvert_exporter": "python",
   "pygments_lexer": "ipython3",
   "version": "3.8.10"
  }
 },
 "nbformat": 4,
 "nbformat_minor": 5
}
