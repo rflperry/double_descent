{
 "cells": [
  {
   "cell_type": "code",
   "execution_count": 1,
   "id": "d354e3c2",
   "metadata": {},
   "outputs": [],
   "source": [
    "import numpy as np\n",
    "import matplotlib.pyplot as plt\n",
    "import seaborn as sns\n",
    "import pandas as pd"
   ]
  },
  {
   "cell_type": "code",
   "execution_count": 2,
   "id": "07d87472",
   "metadata": {},
   "outputs": [],
   "source": [
    "def get_act_regions(mat):\n",
    "    return np.unique(mat, axis=0).shape[0]\n",
    "\n",
    "def sval_metrics(mat):\n",
    "    \"\"\"For computational efficiency, just compute svd once\"\"\"\n",
    "    svals = np.linalg.svd(mat, compute_uv=False)\n",
    "    regions = sum(svals > 0)\n",
    "\n",
    "    schatten1 = sum(svals)\n",
    "    n = mat.shape[0]\n",
    "    evals = svals**2\n",
    "    vec = np.asarray([\n",
    "        i / n + np.sqrt(np.sum(evals[i:]) / n) for i in range(len(evals)+1)\n",
    "    ])\n",
    "    hstar = min(vec)\n",
    "\n",
    "    return regions, hstar, schatten1"
   ]
  },
  {
   "cell_type": "code",
   "execution_count": 3,
   "id": "c58ad9f5",
   "metadata": {},
   "outputs": [],
   "source": [
    "df_mat = []\n",
    "for run in range(10):\n",
    "    results = np.load(f'results_train_test/results_{run}.npz', allow_pickle=True)\n",
    "    for arch in ['w', 'd']:\n",
    "        d = results[f'result_{arch}'].flatten()[0]\n",
    "        for n_par, error_train, error_test, loss_train, loss_test, *mats in zip(\n",
    "            d['n_pars'], d['train_gen_err'], d['test_gen_err'], d['train_loss'], d['test_loss'],\n",
    "            d['matrices']['0/1'], d['matrices_test']['0/1'], d['pen_matrices']['0/1'], d['pen_matrices_test']['0/1'],\n",
    "            d['matrices']['true_label'], d['pen_matrices']['true_label'],\n",
    "            d['matrices']['est_label'], d['matrices_test']['est_label'], d['pen_matrices']['est_label'], d['pen_matrices_test']['est_label'],\n",
    "            d['matrices']['est_poster'], d['matrices_test']['est_poster'], d['pen_matrices']['est_poster'], d['pen_matrices_test']['est_poster']\n",
    "        ):\n",
    "            row = [\n",
    "                'width' if arch == 'w' else 'depth', n_par, run,\n",
    "                error_train, error_test, loss_train, loss_test,\n",
    "            ]\n",
    "            for mat in mats:\n",
    "                regions, hstar, schatten1 = sval_metrics(mat)\n",
    "                row += [regions, hstar, schatten1]\n",
    "            df_mat.append(row)"
   ]
  },
  {
   "cell_type": "code",
   "execution_count": 4,
   "id": "616482de",
   "metadata": {},
   "outputs": [],
   "source": [
    "columns = [\n",
    "    'Architecture', 'n_parameters', 'run',\n",
    "    'error_train', 'error_test',\n",
    "    'loss_train', 'loss_test',\n",
    "]\n",
    "for encoding in ['01', 'true', 'est', 'proba']:\n",
    "    for mat_type in ['mat', 'mat_test', 'pen', 'pen_test']:\n",
    "        if 'test' in mat_type and encoding == 'true':\n",
    "            continue\n",
    "        else:\n",
    "            tag = mat_type + '_' + encoding\n",
    "            columns += [f'n_regions_{tag}', f'h*_{tag}', f'Schatten1_{tag}']\n",
    "\n",
    "\n",
    "df = pd.DataFrame(\n",
    "    data = df_mat,\n",
    "    columns=columns\n",
    ")"
   ]
  },
  {
   "cell_type": "code",
   "execution_count": 15,
   "id": "ac399e6b",
   "metadata": {},
   "outputs": [],
   "source": [
    "df.to_csv('./results_train_test/results_table.csv')"
   ]
  },
  {
   "cell_type": "code",
   "execution_count": 21,
   "id": "735c76c7",
   "metadata": {},
   "outputs": [],
   "source": [
    "row_y = [\n",
    "    ['error_train', 'error_test'],\n",
    "    ['loss_train', 'loss_test'],\n",
    "    ['n_regions_mat_01', 'n_regions_mat_test_01'],\n",
    "    ['h*_mat_01', 'h*_mat_test_01']\n",
    "]"
   ]
  },
  {
   "cell_type": "code",
   "execution_count": 24,
   "id": "1b90a39c",
   "metadata": {},
   "outputs": [
    {
     "ename": "SyntaxError",
     "evalue": "invalid syntax (<ipython-input-24-624bfac21634>, line 2)",
     "output_type": "error",
     "traceback": [
      "\u001b[0;36m  File \u001b[0;32m\"<ipython-input-24-624bfac21634>\"\u001b[0;36m, line \u001b[0;32m2\u001b[0m\n\u001b[0;31m    for col, arch in enumerate(['width', 'depth']):\u001b[0m\n\u001b[0m                                                  ^\u001b[0m\n\u001b[0;31mSyntaxError\u001b[0m\u001b[0;31m:\u001b[0m invalid syntax\n"
     ]
    }
   ],
   "source": [
    "fig, axes = plt.subplots(len(row_y, 2, figsize=(10, 4*len(row_y))))#, sharex='col')#, sharey='row')\n",
    "for col, arch in enumerate(['width', 'depth']):\n",
    "    for row, ys in enumerate(row_y):\n",
    "        ax = axes[row, col]\n",
    "        for y in ys:\n",
    "            sns.lineplot(\n",
    "                data=df[df['Architecture'] == arch],\n",
    "                x='n_parameters', y=y,\n",
    "                ax=ax, label=y)\n",
    "        # ax.set_xscale('log')\n",
    "axes[0, 0].set_title('Width Net o XOR')\n",
    "axes[0, 1].set_title('Depth Net o XOR')\n",
    "axes[-1, 0].set_xlabel('n_params')\n",
    "axes[-1, 1].set_xlabel('n_params')"
   ]
  },
  {
   "cell_type": "code",
   "execution_count": null,
   "id": "e240c7e0",
   "metadata": {},
   "outputs": [],
   "source": []
  }
 ],
 "metadata": {
  "kernelspec": {
   "display_name": "Python (proglearn)",
   "language": "python",
   "name": "proglearn"
  },
  "language_info": {
   "codemirror_mode": {
    "name": "ipython",
    "version": 3
   },
   "file_extension": ".py",
   "mimetype": "text/x-python",
   "name": "python",
   "nbconvert_exporter": "python",
   "pygments_lexer": "ipython3",
   "version": "3.8.10"
  }
 },
 "nbformat": 4,
 "nbformat_minor": 5
}
